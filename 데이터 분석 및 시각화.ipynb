{
 "cells": [
  {
   "cell_type": "markdown",
   "metadata": {},
   "source": [
    "# 데이터 분석 및 시각화\n",
    "\n",
    "## 데이터 추가 정리"
   ]
  },
  {
   "cell_type": "code",
   "execution_count": 1,
   "metadata": {},
   "outputs": [
    {
     "data": {
      "text/html": [
       "<div>\n",
       "<style scoped>\n",
       "    .dataframe tbody tr th:only-of-type {\n",
       "        vertical-align: middle;\n",
       "    }\n",
       "\n",
       "    .dataframe tbody tr th {\n",
       "        vertical-align: top;\n",
       "    }\n",
       "\n",
       "    .dataframe thead th {\n",
       "        text-align: right;\n",
       "    }\n",
       "</style>\n",
       "<table border=\"1\" class=\"dataframe\">\n",
       "  <thead>\n",
       "    <tr style=\"text-align: right;\">\n",
       "      <th></th>\n",
       "      <th>xyz_campaign_id</th>\n",
       "      <th>age</th>\n",
       "      <th>gender</th>\n",
       "      <th>Impressions</th>\n",
       "      <th>Clicks</th>\n",
       "      <th>Spent</th>\n",
       "      <th>Total_Conversion</th>\n",
       "      <th>Approved_Conversion</th>\n",
       "    </tr>\n",
       "  </thead>\n",
       "  <tbody>\n",
       "    <tr>\n",
       "      <th>0</th>\n",
       "      <td>Z</td>\n",
       "      <td>30-34</td>\n",
       "      <td>M</td>\n",
       "      <td>17861</td>\n",
       "      <td>2</td>\n",
       "      <td>1.82</td>\n",
       "      <td>2</td>\n",
       "      <td>0</td>\n",
       "    </tr>\n",
       "    <tr>\n",
       "      <th>1</th>\n",
       "      <td>Z</td>\n",
       "      <td>30-34</td>\n",
       "      <td>M</td>\n",
       "      <td>4259</td>\n",
       "      <td>1</td>\n",
       "      <td>1.25</td>\n",
       "      <td>1</td>\n",
       "      <td>0</td>\n",
       "    </tr>\n",
       "    <tr>\n",
       "      <th>2</th>\n",
       "      <td>Z</td>\n",
       "      <td>30-34</td>\n",
       "      <td>M</td>\n",
       "      <td>4133</td>\n",
       "      <td>1</td>\n",
       "      <td>1.29</td>\n",
       "      <td>1</td>\n",
       "      <td>1</td>\n",
       "    </tr>\n",
       "    <tr>\n",
       "      <th>3</th>\n",
       "      <td>Z</td>\n",
       "      <td>30-34</td>\n",
       "      <td>M</td>\n",
       "      <td>15615</td>\n",
       "      <td>3</td>\n",
       "      <td>4.77</td>\n",
       "      <td>1</td>\n",
       "      <td>0</td>\n",
       "    </tr>\n",
       "    <tr>\n",
       "      <th>4</th>\n",
       "      <td>Z</td>\n",
       "      <td>30-34</td>\n",
       "      <td>M</td>\n",
       "      <td>10951</td>\n",
       "      <td>1</td>\n",
       "      <td>1.27</td>\n",
       "      <td>1</td>\n",
       "      <td>1</td>\n",
       "    </tr>\n",
       "  </tbody>\n",
       "</table>\n",
       "</div>"
      ],
      "text/plain": [
       "  xyz_campaign_id    age gender  Impressions  Clicks  Spent  Total_Conversion  \\\n",
       "0               Z  30-34      M        17861       2   1.82                 2   \n",
       "1               Z  30-34      M         4259       1   1.25                 1   \n",
       "2               Z  30-34      M         4133       1   1.29                 1   \n",
       "3               Z  30-34      M        15615       3   4.77                 1   \n",
       "4               Z  30-34      M        10951       1   1.27                 1   \n",
       "\n",
       "   Approved_Conversion  \n",
       "0                    0  \n",
       "1                    0  \n",
       "2                    1  \n",
       "3                    0  \n",
       "4                    1  "
      ]
     },
     "execution_count": 1,
     "metadata": {},
     "output_type": "execute_result"
    }
   ],
   "source": [
    "import pandas as pd\n",
    "import numpy as np\n",
    "import matplotlib.pyplot as plt\n",
    "import seaborn as sns\n",
    "import plotly.express as px\n",
    "\n",
    "sns.set_style('whitegrid')\n",
    "sns.set_palette('deep')\n",
    "\n",
    "ad_campaign = pd.read_csv('ad_campaign_cleaned.csv')\n",
    "ad_campaign.head()"
   ]
  },
  {
   "cell_type": "code",
   "execution_count": 2,
   "metadata": {},
   "outputs": [
    {
     "name": "stdout",
     "output_type": "stream",
     "text": [
      "<class 'pandas.core.frame.DataFrame'>\n",
      "RangeIndex: 925 entries, 0 to 924\n",
      "Data columns (total 8 columns):\n",
      " #   Column               Non-Null Count  Dtype  \n",
      "---  ------               --------------  -----  \n",
      " 0   xyz_campaign_id      925 non-null    object \n",
      " 1   age                  925 non-null    object \n",
      " 2   gender               925 non-null    object \n",
      " 3   Impressions          925 non-null    int64  \n",
      " 4   Clicks               925 non-null    int64  \n",
      " 5   Spent                925 non-null    float64\n",
      " 6   Total_Conversion     925 non-null    int64  \n",
      " 7   Approved_Conversion  925 non-null    int64  \n",
      "dtypes: float64(1), int64(4), object(3)\n",
      "memory usage: 57.9+ KB\n"
     ]
    }
   ],
   "source": [
    "ad_campaign.info()"
   ]
  },
  {
   "cell_type": "code",
   "execution_count": 3,
   "metadata": {},
   "outputs": [
    {
     "data": {
      "text/plain": [
       "X    608\n",
       "Y    284\n",
       "Z     33\n",
       "Name: xyz_campaign_id, dtype: int64"
      ]
     },
     "execution_count": 3,
     "metadata": {},
     "output_type": "execute_result"
    }
   ],
   "source": [
    "# xyz_campaign_id 값에 따른 행의 개수를 출력\n",
    "ad_campaign['xyz_campaign_id'].value_counts()"
   ]
  },
  {
   "cell_type": "code",
   "execution_count": 4,
   "metadata": {},
   "outputs": [],
   "source": [
    "# 사전 정의에 따라 열 이름 변경\n",
    "ad_campaign.rename(columns={'Total_Conversion': 'Join', 'Approved_Conversion': 'Conversion'}, inplace=True)"
   ]
  },
  {
   "cell_type": "code",
   "execution_count": 5,
   "metadata": {},
   "outputs": [
    {
     "data": {
      "text/html": [
       "<div>\n",
       "<style scoped>\n",
       "    .dataframe tbody tr th:only-of-type {\n",
       "        vertical-align: middle;\n",
       "    }\n",
       "\n",
       "    .dataframe tbody tr th {\n",
       "        vertical-align: top;\n",
       "    }\n",
       "\n",
       "    .dataframe thead th {\n",
       "        text-align: right;\n",
       "    }\n",
       "</style>\n",
       "<table border=\"1\" class=\"dataframe\">\n",
       "  <thead>\n",
       "    <tr style=\"text-align: right;\">\n",
       "      <th></th>\n",
       "      <th>xyz_campaign_id</th>\n",
       "      <th>age</th>\n",
       "      <th>gender</th>\n",
       "      <th>Impressions</th>\n",
       "      <th>Clicks</th>\n",
       "      <th>Spent</th>\n",
       "      <th>Join</th>\n",
       "      <th>Conversion</th>\n",
       "      <th>CPC</th>\n",
       "      <th>CTR</th>\n",
       "      <th>CR</th>\n",
       "    </tr>\n",
       "  </thead>\n",
       "  <tbody>\n",
       "    <tr>\n",
       "      <th>0</th>\n",
       "      <td>Z</td>\n",
       "      <td>30-34</td>\n",
       "      <td>M</td>\n",
       "      <td>17861</td>\n",
       "      <td>2</td>\n",
       "      <td>1.82</td>\n",
       "      <td>2</td>\n",
       "      <td>0</td>\n",
       "      <td>0.91</td>\n",
       "      <td>0.011198</td>\n",
       "      <td>0.000000</td>\n",
       "    </tr>\n",
       "    <tr>\n",
       "      <th>1</th>\n",
       "      <td>Z</td>\n",
       "      <td>30-34</td>\n",
       "      <td>M</td>\n",
       "      <td>4259</td>\n",
       "      <td>1</td>\n",
       "      <td>1.25</td>\n",
       "      <td>1</td>\n",
       "      <td>0</td>\n",
       "      <td>1.25</td>\n",
       "      <td>0.023480</td>\n",
       "      <td>0.000000</td>\n",
       "    </tr>\n",
       "    <tr>\n",
       "      <th>2</th>\n",
       "      <td>Z</td>\n",
       "      <td>30-34</td>\n",
       "      <td>M</td>\n",
       "      <td>4133</td>\n",
       "      <td>1</td>\n",
       "      <td>1.29</td>\n",
       "      <td>1</td>\n",
       "      <td>1</td>\n",
       "      <td>1.29</td>\n",
       "      <td>0.024195</td>\n",
       "      <td>0.024195</td>\n",
       "    </tr>\n",
       "    <tr>\n",
       "      <th>3</th>\n",
       "      <td>Z</td>\n",
       "      <td>30-34</td>\n",
       "      <td>M</td>\n",
       "      <td>15615</td>\n",
       "      <td>3</td>\n",
       "      <td>4.77</td>\n",
       "      <td>1</td>\n",
       "      <td>0</td>\n",
       "      <td>1.59</td>\n",
       "      <td>0.019212</td>\n",
       "      <td>0.000000</td>\n",
       "    </tr>\n",
       "    <tr>\n",
       "      <th>4</th>\n",
       "      <td>Z</td>\n",
       "      <td>30-34</td>\n",
       "      <td>M</td>\n",
       "      <td>10951</td>\n",
       "      <td>1</td>\n",
       "      <td>1.27</td>\n",
       "      <td>1</td>\n",
       "      <td>1</td>\n",
       "      <td>1.27</td>\n",
       "      <td>0.009132</td>\n",
       "      <td>0.009132</td>\n",
       "    </tr>\n",
       "  </tbody>\n",
       "</table>\n",
       "</div>"
      ],
      "text/plain": [
       "  xyz_campaign_id    age gender  Impressions  Clicks  Spent  Join  Conversion  \\\n",
       "0               Z  30-34      M        17861       2   1.82     2           0   \n",
       "1               Z  30-34      M         4259       1   1.25     1           0   \n",
       "2               Z  30-34      M         4133       1   1.29     1           1   \n",
       "3               Z  30-34      M        15615       3   4.77     1           0   \n",
       "4               Z  30-34      M        10951       1   1.27     1           1   \n",
       "\n",
       "    CPC       CTR        CR  \n",
       "0  0.91  0.011198  0.000000  \n",
       "1  1.25  0.023480  0.000000  \n",
       "2  1.29  0.024195  0.024195  \n",
       "3  1.59  0.019212  0.000000  \n",
       "4  1.27  0.009132  0.009132  "
      ]
     },
     "execution_count": 5,
     "metadata": {},
     "output_type": "execute_result"
    }
   ],
   "source": [
    "# CVC, CTR, CR 계산해서 새로운 열 추가\n",
    "ad_campaign['CPC'] = ad_campaign['Spent'] / ad_campaign['Clicks']\n",
    "ad_campaign['CTR'] = (ad_campaign['Clicks'] / ad_campaign['Impressions']) * 100\n",
    "ad_campaign['CR'] = (ad_campaign['Conversion'] / ad_campaign['Impressions']) * 100\n",
    "\n",
    "ad_campaign.head()"
   ]
  },
  {
   "cell_type": "markdown",
   "metadata": {},
   "source": [
    "---"
   ]
  },
  {
   "cell_type": "markdown",
   "metadata": {},
   "source": [
    "## EDA"
   ]
  },
  {
   "cell_type": "code",
   "execution_count": 6,
   "metadata": {},
   "outputs": [
    {
     "data": {
      "image/png": "[encoded data removed]",
      "text/plain": [
       "<Figure size 640x480 with 1 Axes>"
      ]
     },
     "metadata": {},
     "output_type": "display_data"
    }
   ],
   "source": [
    "# 각 캠페인별 데이터 행 개수 시각화\n",
    "sns.countplot(data=ad_campaign, x='xyz_campaign_id')\n",
    "plt.xlabel('Campaign ID')\n",
    "plt.ylabel('Count')\n",
    "plt.title('Count of Campaign ID')\n",
    "plt.show()"
   ]
  },
  {
   "cell_type": "markdown",
   "metadata": {},
   "source": [
    "Z 캠페인의 경우 그 수가 너무 적어 우선 제외하고 진행한다."
   ]
  },
  {
   "cell_type": "code",
   "execution_count": 7,
   "metadata": {},
   "outputs": [],
   "source": [
    "# ad_campaign의 사본을 저장하고, xyz_campaign_id 열의 값이 Z인 행을 제거\n",
    "ad_campaign_copy_z = ad_campaign.copy()\n",
    "ad_campaign = ad_campaign[ad_campaign['xyz_campaign_id'] != 'Z']"
   ]
  },
  {
   "cell_type": "code",
   "execution_count": 8,
   "metadata": {},
   "outputs": [
    {
     "data": {
      "text/html": [
       "<div>\n",
       "<style scoped>\n",
       "    .dataframe tbody tr th:only-of-type {\n",
       "        vertical-align: middle;\n",
       "    }\n",
       "\n",
       "    .dataframe tbody tr th {\n",
       "        vertical-align: top;\n",
       "    }\n",
       "\n",
       "    .dataframe thead th {\n",
       "        text-align: right;\n",
       "    }\n",
       "</style>\n",
       "<table border=\"1\" class=\"dataframe\">\n",
       "  <thead>\n",
       "    <tr style=\"text-align: right;\">\n",
       "      <th></th>\n",
       "      <th></th>\n",
       "      <th></th>\n",
       "      <th>Impressions</th>\n",
       "      <th>Clicks</th>\n",
       "      <th>Join</th>\n",
       "      <th>Conversion</th>\n",
       "      <th>Spent</th>\n",
       "      <th>CTR</th>\n",
       "      <th>CR</th>\n",
       "      <th>CPC</th>\n",
       "    </tr>\n",
       "    <tr>\n",
       "      <th>xyz_campaign_id</th>\n",
       "      <th>age</th>\n",
       "      <th>gender</th>\n",
       "      <th></th>\n",
       "      <th></th>\n",
       "      <th></th>\n",
       "      <th></th>\n",
       "      <th></th>\n",
       "      <th></th>\n",
       "      <th></th>\n",
       "      <th></th>\n",
       "    </tr>\n",
       "  </thead>\n",
       "  <tbody>\n",
       "    <tr>\n",
       "      <th rowspan=\"8\" valign=\"top\">X</th>\n",
       "      <th rowspan=\"2\" valign=\"top\">30-34</th>\n",
       "      <th>F</th>\n",
       "      <td>30393510</td>\n",
       "      <td>4877</td>\n",
       "      <td>494</td>\n",
       "      <td>152</td>\n",
       "      <td>7309.559995</td>\n",
       "      <td>0.016046</td>\n",
       "      <td>0.000500</td>\n",
       "      <td>1.498782</td>\n",
       "    </tr>\n",
       "    <tr>\n",
       "      <th>M</th>\n",
       "      <td>35426099</td>\n",
       "      <td>4256</td>\n",
       "      <td>658</td>\n",
       "      <td>237</td>\n",
       "      <td>7464.399991</td>\n",
       "      <td>0.012014</td>\n",
       "      <td>0.000669</td>\n",
       "      <td>1.753853</td>\n",
       "    </tr>\n",
       "    <tr>\n",
       "      <th rowspan=\"2\" valign=\"top\">35-39</th>\n",
       "      <th>F</th>\n",
       "      <td>20560068</td>\n",
       "      <td>3929</td>\n",
       "      <td>247</td>\n",
       "      <td>72</td>\n",
       "      <td>5737.939991</td>\n",
       "      <td>0.019110</td>\n",
       "      <td>0.000350</td>\n",
       "      <td>1.460407</td>\n",
       "    </tr>\n",
       "    <tr>\n",
       "      <th>M</th>\n",
       "      <td>20334331</td>\n",
       "      <td>2873</td>\n",
       "      <td>268</td>\n",
       "      <td>95</td>\n",
       "      <td>4967.420002</td>\n",
       "      <td>0.014129</td>\n",
       "      <td>0.000467</td>\n",
       "      <td>1.729001</td>\n",
       "    </tr>\n",
       "    <tr>\n",
       "      <th rowspan=\"2\" valign=\"top\">40-44</th>\n",
       "      <th>F</th>\n",
       "      <td>22422956</td>\n",
       "      <td>4919</td>\n",
       "      <td>269</td>\n",
       "      <td>80</td>\n",
       "      <td>7019.739983</td>\n",
       "      <td>0.021937</td>\n",
       "      <td>0.000357</td>\n",
       "      <td>1.427066</td>\n",
       "    </tr>\n",
       "    <tr>\n",
       "      <th>M</th>\n",
       "      <td>15908704</td>\n",
       "      <td>2492</td>\n",
       "      <td>163</td>\n",
       "      <td>61</td>\n",
       "      <td>4102.779997</td>\n",
       "      <td>0.015664</td>\n",
       "      <td>0.000383</td>\n",
       "      <td>1.646380</td>\n",
       "    </tr>\n",
       "    <tr>\n",
       "      <th rowspan=\"2\" valign=\"top\">45-49</th>\n",
       "      <th>F</th>\n",
       "      <td>34969987</td>\n",
       "      <td>8468</td>\n",
       "      <td>308</td>\n",
       "      <td>87</td>\n",
       "      <td>11985.169996</td>\n",
       "      <td>0.024215</td>\n",
       "      <td>0.000249</td>\n",
       "      <td>1.415348</td>\n",
       "    </tr>\n",
       "    <tr>\n",
       "      <th>M</th>\n",
       "      <td>24523705</td>\n",
       "      <td>4247</td>\n",
       "      <td>238</td>\n",
       "      <td>82</td>\n",
       "      <td>7063.470003</td>\n",
       "      <td>0.017318</td>\n",
       "      <td>0.000334</td>\n",
       "      <td>1.663167</td>\n",
       "    </tr>\n",
       "    <tr>\n",
       "      <th rowspan=\"8\" valign=\"top\">Y</th>\n",
       "      <th rowspan=\"2\" valign=\"top\">30-34</th>\n",
       "      <th>F</th>\n",
       "      <td>907600</td>\n",
       "      <td>183</td>\n",
       "      <td>63</td>\n",
       "      <td>22</td>\n",
       "      <td>250.080000</td>\n",
       "      <td>0.020163</td>\n",
       "      <td>0.002424</td>\n",
       "      <td>1.366557</td>\n",
       "    </tr>\n",
       "    <tr>\n",
       "      <th>M</th>\n",
       "      <td>516765</td>\n",
       "      <td>97</td>\n",
       "      <td>47</td>\n",
       "      <td>19</td>\n",
       "      <td>134.910000</td>\n",
       "      <td>0.018771</td>\n",
       "      <td>0.003677</td>\n",
       "      <td>1.390825</td>\n",
       "    </tr>\n",
       "    <tr>\n",
       "      <th rowspan=\"2\" valign=\"top\">35-39</th>\n",
       "      <th>F</th>\n",
       "      <td>850061</td>\n",
       "      <td>228</td>\n",
       "      <td>40</td>\n",
       "      <td>17</td>\n",
       "      <td>317.790001</td>\n",
       "      <td>0.026822</td>\n",
       "      <td>0.002000</td>\n",
       "      <td>1.393816</td>\n",
       "    </tr>\n",
       "    <tr>\n",
       "      <th>M</th>\n",
       "      <td>195572</td>\n",
       "      <td>46</td>\n",
       "      <td>24</td>\n",
       "      <td>11</td>\n",
       "      <td>64.320000</td>\n",
       "      <td>0.023521</td>\n",
       "      <td>0.005625</td>\n",
       "      <td>1.398261</td>\n",
       "    </tr>\n",
       "    <tr>\n",
       "      <th rowspan=\"2\" valign=\"top\">40-44</th>\n",
       "      <th>F</th>\n",
       "      <td>959402</td>\n",
       "      <td>257</td>\n",
       "      <td>39</td>\n",
       "      <td>8</td>\n",
       "      <td>375.710000</td>\n",
       "      <td>0.026788</td>\n",
       "      <td>0.000834</td>\n",
       "      <td>1.461907</td>\n",
       "    </tr>\n",
       "    <tr>\n",
       "      <th>M</th>\n",
       "      <td>202378</td>\n",
       "      <td>54</td>\n",
       "      <td>23</td>\n",
       "      <td>10</td>\n",
       "      <td>74.689999</td>\n",
       "      <td>0.026683</td>\n",
       "      <td>0.004941</td>\n",
       "      <td>1.383148</td>\n",
       "    </tr>\n",
       "    <tr>\n",
       "      <th rowspan=\"2\" valign=\"top\">45-49</th>\n",
       "      <th>F</th>\n",
       "      <td>3439206</td>\n",
       "      <td>962</td>\n",
       "      <td>77</td>\n",
       "      <td>20</td>\n",
       "      <td>1432.929997</td>\n",
       "      <td>0.027972</td>\n",
       "      <td>0.000582</td>\n",
       "      <td>1.489532</td>\n",
       "    </tr>\n",
       "    <tr>\n",
       "      <th>M</th>\n",
       "      <td>685762</td>\n",
       "      <td>150</td>\n",
       "      <td>27</td>\n",
       "      <td>8</td>\n",
       "      <td>235.170000</td>\n",
       "      <td>0.021873</td>\n",
       "      <td>0.001167</td>\n",
       "      <td>1.567800</td>\n",
       "    </tr>\n",
       "  </tbody>\n",
       "</table>\n",
       "</div>"
      ],
      "text/plain": [
       "                              Impressions  Clicks  Join  Conversion  \\\n",
       "xyz_campaign_id age   gender                                          \n",
       "X               30-34 F          30393510    4877   494         152   \n",
       "                      M          35426099    4256   658         237   \n",
       "                35-39 F          20560068    3929   247          72   \n",
       "                      M          20334331    2873   268          95   \n",
       "                40-44 F          22422956    4919   269          80   \n",
       "                      M          15908704    2492   163          61   \n",
       "                45-49 F          34969987    8468   308          87   \n",
       "                      M          24523705    4247   238          82   \n",
       "Y               30-34 F            907600     183    63          22   \n",
       "                      M            516765      97    47          19   \n",
       "                35-39 F            850061     228    40          17   \n",
       "                      M            195572      46    24          11   \n",
       "                40-44 F            959402     257    39           8   \n",
       "                      M            202378      54    23          10   \n",
       "                45-49 F           3439206     962    77          20   \n",
       "                      M            685762     150    27           8   \n",
       "\n",
       "                                     Spent       CTR        CR       CPC  \n",
       "xyz_campaign_id age   gender                                              \n",
       "X               30-34 F        7309.559995  0.016046  0.000500  1.498782  \n",
       "                      M        7464.399991  0.012014  0.000669  1.753853  \n",
       "                35-39 F        5737.939991  0.019110  0.000350  1.460407  \n",
       "                      M        4967.420002  0.014129  0.000467  1.729001  \n",
       "                40-44 F        7019.739983  0.021937  0.000357  1.427066  \n",
       "                      M        4102.779997  0.015664  0.000383  1.646380  \n",
       "                45-49 F       11985.169996  0.024215  0.000249  1.415348  \n",
       "                      M        7063.470003  0.017318  0.000334  1.663167  \n",
       "Y               30-34 F         250.080000  0.020163  0.002424  1.366557  \n",
       "                      M         134.910000  0.018771  0.003677  1.390825  \n",
       "                35-39 F         317.790001  0.026822  0.002000  1.393816  \n",
       "                      M          64.320000  0.023521  0.005625  1.398261  \n",
       "                40-44 F         375.710000  0.026788  0.000834  1.461907  \n",
       "                      M          74.689999  0.026683  0.004941  1.383148  \n",
       "                45-49 F        1432.929997  0.027972  0.000582  1.489532  \n",
       "                      M         235.170000  0.021873  0.001167  1.567800  "
      ]
     },
     "execution_count": 8,
     "metadata": {},
     "output_type": "execute_result"
    }
   ],
   "source": [
    "# 그룹별로 묶어서 CTR, CR, CPC의 계산\n",
    "group_df = ad_campaign.groupby(['xyz_campaign_id', 'age', 'gender']).agg({'Impressions': 'sum', 'Clicks': 'sum', 'Join': 'sum', 'Conversion': 'sum', 'Spent': 'sum'})\n",
    "\n",
    "group_df['CTR'] = (group_df['Clicks'] / group_df['Impressions']) * 100\n",
    "group_df['CR'] = (group_df['Conversion'] / group_df['Impressions']) * 100\n",
    "group_df['CPC'] = group_df['Spent'] / group_df['Clicks']\n",
    "\n",
    "group_df"
   ]
  },
  {
   "cell_type": "code",
   "execution_count": 9,
   "metadata": {},
   "outputs": [
    {
     "data": {
      "text/html": [
       "<div>\n",
       "<style scoped>\n",
       "    .dataframe tbody tr th:only-of-type {\n",
       "        vertical-align: middle;\n",
       "    }\n",
       "\n",
       "    .dataframe tbody tr th {\n",
       "        vertical-align: top;\n",
       "    }\n",
       "\n",
       "    .dataframe thead th {\n",
       "        text-align: right;\n",
       "    }\n",
       "</style>\n",
       "<table border=\"1\" class=\"dataframe\">\n",
       "  <thead>\n",
       "    <tr style=\"text-align: right;\">\n",
       "      <th></th>\n",
       "      <th>xyz_campaign_id</th>\n",
       "      <th>age</th>\n",
       "      <th>gender</th>\n",
       "      <th>Impressions</th>\n",
       "      <th>Clicks</th>\n",
       "      <th>Join</th>\n",
       "      <th>Conversion</th>\n",
       "      <th>Spent</th>\n",
       "      <th>CTR</th>\n",
       "      <th>CR</th>\n",
       "      <th>CPC</th>\n",
       "      <th>NewIndex</th>\n",
       "    </tr>\n",
       "  </thead>\n",
       "  <tbody>\n",
       "    <tr>\n",
       "      <th>0</th>\n",
       "      <td>X</td>\n",
       "      <td>30-34</td>\n",
       "      <td>F</td>\n",
       "      <td>30393510</td>\n",
       "      <td>4877</td>\n",
       "      <td>494</td>\n",
       "      <td>152</td>\n",
       "      <td>7309.559995</td>\n",
       "      <td>0.016046</td>\n",
       "      <td>0.000500</td>\n",
       "      <td>1.498782</td>\n",
       "      <td>X_30-34_F</td>\n",
       "    </tr>\n",
       "    <tr>\n",
       "      <th>1</th>\n",
       "      <td>X</td>\n",
       "      <td>30-34</td>\n",
       "      <td>M</td>\n",
       "      <td>35426099</td>\n",
       "      <td>4256</td>\n",
       "      <td>658</td>\n",
       "      <td>237</td>\n",
       "      <td>7464.399991</td>\n",
       "      <td>0.012014</td>\n",
       "      <td>0.000669</td>\n",
       "      <td>1.753853</td>\n",
       "      <td>X_30-34_M</td>\n",
       "    </tr>\n",
       "    <tr>\n",
       "      <th>2</th>\n",
       "      <td>X</td>\n",
       "      <td>35-39</td>\n",
       "      <td>F</td>\n",
       "      <td>20560068</td>\n",
       "      <td>3929</td>\n",
       "      <td>247</td>\n",
       "      <td>72</td>\n",
       "      <td>5737.939991</td>\n",
       "      <td>0.019110</td>\n",
       "      <td>0.000350</td>\n",
       "      <td>1.460407</td>\n",
       "      <td>X_35-39_F</td>\n",
       "    </tr>\n",
       "    <tr>\n",
       "      <th>3</th>\n",
       "      <td>X</td>\n",
       "      <td>35-39</td>\n",
       "      <td>M</td>\n",
       "      <td>20334331</td>\n",
       "      <td>2873</td>\n",
       "      <td>268</td>\n",
       "      <td>95</td>\n",
       "      <td>4967.420002</td>\n",
       "      <td>0.014129</td>\n",
       "      <td>0.000467</td>\n",
       "      <td>1.729001</td>\n",
       "      <td>X_35-39_M</td>\n",
       "    </tr>\n",
       "    <tr>\n",
       "      <th>4</th>\n",
       "      <td>X</td>\n",
       "      <td>40-44</td>\n",
       "      <td>F</td>\n",
       "      <td>22422956</td>\n",
       "      <td>4919</td>\n",
       "      <td>269</td>\n",
       "      <td>80</td>\n",
       "      <td>7019.739983</td>\n",
       "      <td>0.021937</td>\n",
       "      <td>0.000357</td>\n",
       "      <td>1.427066</td>\n",
       "      <td>X_40-44_F</td>\n",
       "    </tr>\n",
       "    <tr>\n",
       "      <th>5</th>\n",
       "      <td>X</td>\n",
       "      <td>40-44</td>\n",
       "      <td>M</td>\n",
       "      <td>15908704</td>\n",
       "      <td>2492</td>\n",
       "      <td>163</td>\n",
       "      <td>61</td>\n",
       "      <td>4102.779997</td>\n",
       "      <td>0.015664</td>\n",
       "      <td>0.000383</td>\n",
       "      <td>1.646380</td>\n",
       "      <td>X_40-44_M</td>\n",
       "    </tr>\n",
       "    <tr>\n",
       "      <th>6</th>\n",
       "      <td>X</td>\n",
       "      <td>45-49</td>\n",
       "      <td>F</td>\n",
       "      <td>34969987</td>\n",
       "      <td>8468</td>\n",
       "      <td>308</td>\n",
       "      <td>87</td>\n",
       "      <td>11985.169996</td>\n",
       "      <td>0.024215</td>\n",
       "      <td>0.000249</td>\n",
       "      <td>1.415348</td>\n",
       "      <td>X_45-49_F</td>\n",
       "    </tr>\n",
       "    <tr>\n",
       "      <th>7</th>\n",
       "      <td>X</td>\n",
       "      <td>45-49</td>\n",
       "      <td>M</td>\n",
       "      <td>24523705</td>\n",
       "      <td>4247</td>\n",
       "      <td>238</td>\n",
       "      <td>82</td>\n",
       "      <td>7063.470003</td>\n",
       "      <td>0.017318</td>\n",
       "      <td>0.000334</td>\n",
       "      <td>1.663167</td>\n",
       "      <td>X_45-49_M</td>\n",
       "    </tr>\n",
       "    <tr>\n",
       "      <th>8</th>\n",
       "      <td>Y</td>\n",
       "      <td>30-34</td>\n",
       "      <td>F</td>\n",
       "      <td>907600</td>\n",
       "      <td>183</td>\n",
       "      <td>63</td>\n",
       "      <td>22</td>\n",
       "      <td>250.080000</td>\n",
       "      <td>0.020163</td>\n",
       "      <td>0.002424</td>\n",
       "      <td>1.366557</td>\n",
       "      <td>Y_30-34_F</td>\n",
       "    </tr>\n",
       "    <tr>\n",
       "      <th>9</th>\n",
       "      <td>Y</td>\n",
       "      <td>30-34</td>\n",
       "      <td>M</td>\n",
       "      <td>516765</td>\n",
       "      <td>97</td>\n",
       "      <td>47</td>\n",
       "      <td>19</td>\n",
       "      <td>134.910000</td>\n",
       "      <td>0.018771</td>\n",
       "      <td>0.003677</td>\n",
       "      <td>1.390825</td>\n",
       "      <td>Y_30-34_M</td>\n",
       "    </tr>\n",
       "    <tr>\n",
       "      <th>10</th>\n",
       "      <td>Y</td>\n",
       "      <td>35-39</td>\n",
       "      <td>F</td>\n",
       "      <td>850061</td>\n",
       "      <td>228</td>\n",
       "      <td>40</td>\n",
       "      <td>17</td>\n",
       "      <td>317.790001</td>\n",
       "      <td>0.026822</td>\n",
       "      <td>0.002000</td>\n",
       "      <td>1.393816</td>\n",
       "      <td>Y_35-39_F</td>\n",
       "    </tr>\n",
       "    <tr>\n",
       "      <th>11</th>\n",
       "      <td>Y</td>\n",
       "      <td>35-39</td>\n",
       "      <td>M</td>\n",
       "      <td>195572</td>\n",
       "      <td>46</td>\n",
       "      <td>24</td>\n",
       "      <td>11</td>\n",
       "      <td>64.320000</td>\n",
       "      <td>0.023521</td>\n",
       "      <td>0.005625</td>\n",
       "      <td>1.398261</td>\n",
       "      <td>Y_35-39_M</td>\n",
       "    </tr>\n",
       "    <tr>\n",
       "      <th>12</th>\n",
       "      <td>Y</td>\n",
       "      <td>40-44</td>\n",
       "      <td>F</td>\n",
       "      <td>959402</td>\n",
       "      <td>257</td>\n",
       "      <td>39</td>\n",
       "      <td>8</td>\n",
       "      <td>375.710000</td>\n",
       "      <td>0.026788</td>\n",
       "      <td>0.000834</td>\n",
       "      <td>1.461907</td>\n",
       "      <td>Y_40-44_F</td>\n",
       "    </tr>\n",
       "    <tr>\n",
       "      <th>13</th>\n",
       "      <td>Y</td>\n",
       "      <td>40-44</td>\n",
       "      <td>M</td>\n",
       "      <td>202378</td>\n",
       "      <td>54</td>\n",
       "      <td>23</td>\n",
       "      <td>10</td>\n",
       "      <td>74.689999</td>\n",
       "      <td>0.026683</td>\n",
       "      <td>0.004941</td>\n",
       "      <td>1.383148</td>\n",
       "      <td>Y_40-44_M</td>\n",
       "    </tr>\n",
       "    <tr>\n",
       "      <th>14</th>\n",
       "      <td>Y</td>\n",
       "      <td>45-49</td>\n",
       "      <td>F</td>\n",
       "      <td>3439206</td>\n",
       "      <td>962</td>\n",
       "      <td>77</td>\n",
       "      <td>20</td>\n",
       "      <td>1432.929997</td>\n",
       "      <td>0.027972</td>\n",
       "      <td>0.000582</td>\n",
       "      <td>1.489532</td>\n",
       "      <td>Y_45-49_F</td>\n",
       "    </tr>\n",
       "    <tr>\n",
       "      <th>15</th>\n",
       "      <td>Y</td>\n",
       "      <td>45-49</td>\n",
       "      <td>M</td>\n",
       "      <td>685762</td>\n",
       "      <td>150</td>\n",
       "      <td>27</td>\n",
       "      <td>8</td>\n",
       "      <td>235.170000</td>\n",
       "      <td>0.021873</td>\n",
       "      <td>0.001167</td>\n",
       "      <td>1.567800</td>\n",
       "      <td>Y_45-49_M</td>\n",
       "    </tr>\n",
       "  </tbody>\n",
       "</table>\n",
       "</div>"
      ],
      "text/plain": [
       "   xyz_campaign_id    age gender  Impressions  Clicks  Join  Conversion  \\\n",
       "0                X  30-34      F     30393510    4877   494         152   \n",
       "1                X  30-34      M     35426099    4256   658         237   \n",
       "2                X  35-39      F     20560068    3929   247          72   \n",
       "3                X  35-39      M     20334331    2873   268          95   \n",
       "4                X  40-44      F     22422956    4919   269          80   \n",
       "5                X  40-44      M     15908704    2492   163          61   \n",
       "6                X  45-49      F     34969987    8468   308          87   \n",
       "7                X  45-49      M     24523705    4247   238          82   \n",
       "8                Y  30-34      F       907600     183    63          22   \n",
       "9                Y  30-34      M       516765      97    47          19   \n",
       "10               Y  35-39      F       850061     228    40          17   \n",
       "11               Y  35-39      M       195572      46    24          11   \n",
       "12               Y  40-44      F       959402     257    39           8   \n",
       "13               Y  40-44      M       202378      54    23          10   \n",
       "14               Y  45-49      F      3439206     962    77          20   \n",
       "15               Y  45-49      M       685762     150    27           8   \n",
       "\n",
       "           Spent       CTR        CR       CPC   NewIndex  \n",
       "0    7309.559995  0.016046  0.000500  1.498782  X_30-34_F  \n",
       "1    7464.399991  0.012014  0.000669  1.753853  X_30-34_M  \n",
       "2    5737.939991  0.019110  0.000350  1.460407  X_35-39_F  \n",
       "3    4967.420002  0.014129  0.000467  1.729001  X_35-39_M  \n",
       "4    7019.739983  0.021937  0.000357  1.427066  X_40-44_F  \n",
       "5    4102.779997  0.015664  0.000383  1.646380  X_40-44_M  \n",
       "6   11985.169996  0.024215  0.000249  1.415348  X_45-49_F  \n",
       "7    7063.470003  0.017318  0.000334  1.663167  X_45-49_M  \n",
       "8     250.080000  0.020163  0.002424  1.366557  Y_30-34_F  \n",
       "9     134.910000  0.018771  0.003677  1.390825  Y_30-34_M  \n",
       "10    317.790001  0.026822  0.002000  1.393816  Y_35-39_F  \n",
       "11     64.320000  0.023521  0.005625  1.398261  Y_35-39_M  \n",
       "12    375.710000  0.026788  0.000834  1.461907  Y_40-44_F  \n",
       "13     74.689999  0.026683  0.004941  1.383148  Y_40-44_M  \n",
       "14   1432.929997  0.027972  0.000582  1.489532  Y_45-49_F  \n",
       "15    235.170000  0.021873  0.001167  1.567800  Y_45-49_M  "
      ]
     },
     "execution_count": 9,
     "metadata": {},
     "output_type": "execute_result"
    }
   ],
   "source": [
    "# 그룹 인덱스를 풀고 새로운 인덱스를 만들어 추가 \n",
    "group_df.reset_index(inplace=True)\n",
    "group_df['NewIndex'] = group_df['xyz_campaign_id'].astype(str) + '_' + group_df['age'].astype(str) + '_' + group_df['gender'].astype(str)\n",
    "group_df\n"
   ]
  },
  {
   "cell_type": "code",
   "execution_count": 44,
   "metadata": {},
   "outputs": [
    {
     "data": {
      "image/png": "[encoded data removed]",
      "text/plain": [
       "<Figure size 800x1200 with 3 Axes>"
      ]
     },
     "metadata": {},
     "output_type": "display_data"
    }
   ],
   "source": [
    "# X 캠페인의 그룹별 CTR, CR, CPC 시각화\n",
    "campaign_X_data = group_df[group_df['xyz_campaign_id'] == 'X']\n",
    "\n",
    "fig, axes = plt.subplots(3, 1, figsize=(8, 12))\n",
    "fig.suptitle('Campaign X')\n",
    "\n",
    "axes[0].bar(campaign_X_data['NewIndex'], campaign_X_data['CTR'], color='darkgreen')\n",
    "axes[0].set_ylabel('CTR')\n",
    "\n",
    "axes[1].bar(campaign_X_data['NewIndex'], campaign_X_data['CR'], color='darkgreen')\n",
    "axes[1].set_ylabel('CR')\n",
    "\n",
    "axes[2].bar(campaign_X_data['NewIndex'], campaign_X_data['CPC'], color='darkgreen')\n",
    "axes[2].set_ylabel('CPC')\n",
    "\n",
    "axes[2].set_xlabel('NewIndex')\n",
    "plt.tight_layout()\n",
    "plt.show()"
   ]
  },
  {
   "cell_type": "markdown",
   "metadata": {},
   "source": [
    "X 캠페인에서\n",
    "- CTR의 경우 여성이 남성보다 전반적으로 높고, 나이대가 높을수록 상승하는 경향을 보인다.\n",
    "- 하지만 CR에서는 남성이 여성보다 전반적으로 높고, 나이대가 높을수록 하락한다. 다시말해 CTR과 경향이 정반대이다.\n",
    "- CPC의 경우는 남성이 여성보다 모두 약 0.25정도 높고, 나이대는 높아질수록 하락하지만 큰 차이는 없다.\n",
    "\n",
    "정리\n",
    "- CTR은 여성이 높지만, CR은 남성이 높다. 다만, CPC는 남성이 더 높기 때문에, 비용 대비 효과는 각 그룹별 고객 가치에 따라 다를 것이다.\n",
    "- 예를 들어, CTR이 제일 낮지만 CR이 제일 높은 30대 초반 남자 그룹이 비용은 가장 크다. 하지만 고객의 생애 가치를 측정했을때, 비록 가장 낮은 CR을 보이지만 CPC는 가장 저렴한 40대 후반 여자 그룹의 생애가치 더 높다면, 30대 초반 남자 그룹의 비용대비 효과가 더 좋다고 할 수 없다.\n",
    "- 만약 성별과 나이대를 타겟으로 마케팅 효과를 더 극대화하려면 고객 그룹별 가치를 측정해서 활용해야 한다."
   ]
  },
  {
   "cell_type": "code",
   "execution_count": 43,
   "metadata": {},
   "outputs": [
    {
     "data": {
      "image/png": "[encoded data removed]",
      "text/plain": [
       "<Figure size 800x1200 with 3 Axes>"
      ]
     },
     "metadata": {},
     "output_type": "display_data"
    }
   ],
   "source": [
    "# Y 캠페인의 그룹별 CTR, CR, CPC 시각화\n",
    "campaign_X_data = group_df[group_df['xyz_campaign_id'] == 'Y']\n",
    "\n",
    "fig, axes = plt.subplots(3, 1, figsize=(8, 12))\n",
    "fig.suptitle('Campaign Y')\n",
    "\n",
    "axes[0].bar(campaign_X_data['NewIndex'], campaign_X_data['CTR'], color='darkorange')\n",
    "axes[0].set_ylabel('CTR')\n",
    "\n",
    "axes[1].bar(campaign_X_data['NewIndex'], campaign_X_data['CR'], color='darkorange')\n",
    "axes[1].set_ylabel('CR')\n",
    "\n",
    "axes[2].bar(campaign_X_data['NewIndex'], campaign_X_data['CPC'], color='darkorange')\n",
    "axes[2].set_ylabel('CPC')\n",
    "\n",
    "axes[2].set_xlabel('NewIndex')\n",
    "plt.tight_layout()\n",
    "plt.show()"
   ]
  },
  {
   "cell_type": "markdown",
   "metadata": {},
   "source": [
    "Y 캠페인\n",
    "- 40대 여성 그룹, 40대 후반 남성 그룹은 CTR, CPC는 다른 그룹들과 비슷한 수준이지만, CR은 가장 낮다. \n",
    "- 만약 이들의 고객 가치가 다른 그룹에 비해 특별히 높지 않다면, 이들을 타겟으로 마케팅을 진행하는 것은 비용 대비 효과가 가장 적을 것으로 예상된다."
   ]
  },
  {
   "cell_type": "code",
   "execution_count": 12,
   "metadata": {},
   "outputs": [
    {
     "data": {
      "text/html": [
       "<div>\n",
       "<style scoped>\n",
       "    .dataframe tbody tr th:only-of-type {\n",
       "        vertical-align: middle;\n",
       "    }\n",
       "\n",
       "    .dataframe tbody tr th {\n",
       "        vertical-align: top;\n",
       "    }\n",
       "\n",
       "    .dataframe thead th {\n",
       "        text-align: right;\n",
       "    }\n",
       "</style>\n",
       "<table border=\"1\" class=\"dataframe\">\n",
       "  <thead>\n",
       "    <tr style=\"text-align: right;\">\n",
       "      <th></th>\n",
       "      <th>Impressions</th>\n",
       "      <th>Clicks</th>\n",
       "      <th>Join</th>\n",
       "      <th>Conversion</th>\n",
       "      <th>Spent</th>\n",
       "      <th>CTR</th>\n",
       "      <th>CR</th>\n",
       "      <th>CPC</th>\n",
       "    </tr>\n",
       "    <tr>\n",
       "      <th>xyz_campaign_id</th>\n",
       "      <th></th>\n",
       "      <th></th>\n",
       "      <th></th>\n",
       "      <th></th>\n",
       "      <th></th>\n",
       "      <th></th>\n",
       "      <th></th>\n",
       "      <th></th>\n",
       "    </tr>\n",
       "  </thead>\n",
       "  <tbody>\n",
       "    <tr>\n",
       "      <th>X</th>\n",
       "      <td>204539360</td>\n",
       "      <td>36061</td>\n",
       "      <td>2645</td>\n",
       "      <td>866</td>\n",
       "      <td>55650.479959</td>\n",
       "      <td>0.017630</td>\n",
       "      <td>2.401486</td>\n",
       "      <td>1.543232</td>\n",
       "    </tr>\n",
       "    <tr>\n",
       "      <th>Y</th>\n",
       "      <td>7756746</td>\n",
       "      <td>1977</td>\n",
       "      <td>340</td>\n",
       "      <td>115</td>\n",
       "      <td>2885.599999</td>\n",
       "      <td>0.025487</td>\n",
       "      <td>5.816894</td>\n",
       "      <td>1.459585</td>\n",
       "    </tr>\n",
       "  </tbody>\n",
       "</table>\n",
       "</div>"
      ],
      "text/plain": [
       "                 Impressions  Clicks  Join  Conversion         Spent  \\\n",
       "xyz_campaign_id                                                        \n",
       "X                  204539360   36061  2645         866  55650.479959   \n",
       "Y                    7756746    1977   340         115   2885.599999   \n",
       "\n",
       "                      CTR        CR       CPC  \n",
       "xyz_campaign_id                                \n",
       "X                0.017630  2.401486  1.543232  \n",
       "Y                0.025487  5.816894  1.459585  "
      ]
     },
     "execution_count": 12,
     "metadata": {},
     "output_type": "execute_result"
    }
   ],
   "source": [
    "Sum_campaign = ad_campaign.groupby('xyz_campaign_id').agg({'Impressions': 'sum', 'Clicks': 'sum', 'Join': 'sum', 'Conversion': 'sum', 'Spent': 'sum'})\n",
    "\n",
    "Sum_campaign['CTR'] = (Sum_campaign['Clicks'] / Sum_campaign['Impressions']) * 100\n",
    "Sum_campaign['CR'] = (Sum_campaign['Conversion'] / Sum_campaign['Clicks']) * 100\n",
    "Sum_campaign['CPC'] = Sum_campaign['Spent'] / Sum_campaign['Clicks']\n",
    "\n",
    "Sum_campaign"
   ]
  },
  {
   "cell_type": "markdown",
   "metadata": {},
   "source": [
    "X 캠페인과 Y 캠페인 비교\n",
    "- CTR, CR 모두 Y 캠페인이 더 높다.\n",
    "- 반면, CPC는 오히려 X 캠페인이 더 높다.\n",
    "- 따라서, Y 캠페인이 X 캠페인보다 비용 대비 효과가 더 좋은 것으로 보인다."
   ]
  },
  {
   "cell_type": "markdown",
   "metadata": {},
   "source": [
    "---\n",
    "\n",
    "## A/B 테스트"
   ]
  },
  {
   "cell_type": "code",
   "execution_count": 47,
   "metadata": {},
   "outputs": [
    {
     "name": "stdout",
     "output_type": "stream",
     "text": [
      "X 캠페인의 전환율: 0.024014863703169628\n",
      "Y 캠페인의 전환율: 0.058168942842690946\n",
      "p-value: 7.652257563602614e-25\n",
      "두 캠페인의 전환율 차이는 통계적으로 유의미합니다.\n"
     ]
    }
   ],
   "source": [
    "import scipy.stats as stats\n",
    "\n",
    "# 캠페인 X와 Y에 대한 A/B테스트 가설1 검정\n",
    "# 가설1 : X 캠페인과 Y 캠페인의 전환율 차이는 통계적으로 유의미할 것이다.\n",
    "campaign_X_data = ad_campaign[ad_campaign['xyz_campaign_id'] == 'X']\n",
    "campaign_Y_data = ad_campaign[ad_campaign['xyz_campaign_id'] == 'Y']\n",
    "\n",
    "conversion_rate_X = campaign_X_data['Conversion'].sum() / campaign_X_data['Clicks'].sum()\n",
    "conversion_rate_Y = campaign_Y_data['Conversion'].sum() / campaign_Y_data['Clicks'].sum()\n",
    "\n",
    "# 양쪽 꼬리 가설 검정\n",
    "t_stat, p_value = stats.ttest_ind(campaign_X_data['Conversion'], campaign_Y_data['Conversion'], equal_var=False)\n",
    "\n",
    "print(f\"X 캠페인의 전환율: {conversion_rate_X}\")\n",
    "print(f\"Y 캠페인의 전환율: {conversion_rate_Y}\")\n",
    "print(f\"p-value: {p_value}\")\n",
    "if p_value < 0.05:\n",
    "    print(\"두 캠페인의 전환율 차이는 통계적으로 유의미합니다.\")\n",
    "else:\n",
    "    print(\"두 캠페인의 전환율 차이는 통계적으로 유의미하지 않습니다.\")\n"
   ]
  },
  {
   "cell_type": "code",
   "execution_count": 52,
   "metadata": {},
   "outputs": [
    {
     "name": "stdout",
     "output_type": "stream",
     "text": [
      "X 캠페인의 전환율: 0.024014863703169628\n",
      "Y 캠페인의 전환율: 0.058168942842690946\n",
      "전환율 차이: 0.034154079139521315\n",
      "일원 가설 검정 p-value: 3.826128781801307e-25\n",
      "Y 캠페인의 전환율이 X 캠페인보다 2% 이상 높으며, 이 차이는 통계적으로 유의미합니다.\n"
     ]
    }
   ],
   "source": [
    "# 캠페인 X와 Y에 대한 A/B테스트 가설2 검정\n",
    "# 가설2 : Y 캠페인의 전환율이 X 캠페인의 전환율보다 2%이상 높을 것이다.\n",
    "\n",
    "# 전환율 차이 계산\n",
    "conversion_rate_difference = conversion_rate_Y - conversion_rate_X\n",
    "\n",
    "# 일원 가설 검정\n",
    "t_stat, two_tailed_p_value = stats.ttest_ind(campaign_Y_data['Conversion'], campaign_X_data['Conversion'], equal_var=False)\n",
    "one_tailed_p_value = two_tailed_p_value / 2\n",
    "\n",
    "print(f\"X 캠페인의 전환율: {conversion_rate_X}\")\n",
    "print(f\"Y 캠페인의 전환율: {conversion_rate_Y}\")\n",
    "print(f\"전환율 차이: {conversion_rate_difference}\")\n",
    "print(f\"일원 가설 검정 p-value: {one_tailed_p_value}\")\n",
    "if one_tailed_p_value < 0.05 and conversion_rate_difference > 0.02:\n",
    "    print(\"Y 캠페인의 전환율이 X 캠페인보다 2% 이상 높으며, 이 차이는 통계적으로 유의미합니다.\")\n",
    "else:\n",
    "    print(\"Y 캠페인의 전환율이 X 캠페인보다 2% 이상 높지 않거나, 이 차이가 통계적으로 유의미하지 않습니다.\")"
   ]
  },
  {
   "cell_type": "markdown",
   "metadata": {},
   "source": [
    "- 앞서 이미 전환율 차이를 확인했기 때문에, 5% 차이에 대한 가설에 대한 검증은 생략할 수 있지만, 처음 계획대로 일단 수행하려 한다.\n",
    "\n",
    "( 3% 차이에 대한 가설 검증에서 숫자만 바꿈)"
   ]
  },
  {
   "cell_type": "code",
   "execution_count": 50,
   "metadata": {},
   "outputs": [
    {
     "name": "stdout",
     "output_type": "stream",
     "text": [
      "X 캠페인의 전환율: 0.024014863703169628\n",
      "Y 캠페인의 전환율: 0.058168942842690946\n",
      "전환율 차이: 0.034154079139521315\n",
      "일원 가설 검정 p-value: 3.826128781801307e-25\n",
      "t-통계량: -10.674519055846881\n",
      "Y 캠페인의 전환율이 X 캠페인보다 5% 이상 높지 않거나, 이 차이가 통계적으로 유의미하지 않습니다.\n"
     ]
    }
   ],
   "source": [
    "# 캠페인 X와 Y에 대한 A/B테스트 가설2 검정\n",
    "# 가설2 : Y 캠페인의 전환율이 X 캠페인의 전환율보다 3%이상 높을 것이다.\n",
    "\n",
    "# 전환율 차이 계산\n",
    "conversion_rate_difference = conversion_rate_Y - conversion_rate_X\n",
    "\n",
    "# 일원 가설 검정\n",
    "t_stat, two_tailed_p_value = stats.ttest_ind(campaign_Y_data['Conversion'], campaign_X_data['Conversion'], equal_var=False)\n",
    "one_tailed_p_value = two_tailed_p_value / 2\n",
    "\n",
    "print(f\"X 캠페인의 전환율: {conversion_rate_X}\")\n",
    "print(f\"Y 캠페인의 전환율: {conversion_rate_Y}\")\n",
    "print(f\"전환율 차이: {conversion_rate_difference}\")\n",
    "print(f\"일원 가설 검정 p-value: {one_tailed_p_value}\")\n",
    "print(f\"t-통계량: {t_stat}\")\n",
    "if one_tailed_p_value < 0.05 and conversion_rate_difference > 0.05:\n",
    "    print(\"Y 캠페인의 전환율이 X 캠페인보다 5% 이상 높으며, 이 차이는 통계적으로 유의미합니다.\")\n",
    "else:\n",
    "    print(\"Y 캠페인의 전환율이 X 캠페인보다 5% 이상 높지 않거나, 이 차이가 통계적으로 유의미하지 않습니다.\")"
   ]
  },
  {
   "cell_type": "markdown",
   "metadata": {},
   "source": [
    "#### 결론\n",
    "A/B테스트 결과, Y 캠페인은 전환율을 3% 이상 높일 수 있어 X 캠페인에서 변경하는 것은 타당한 선택으로 보인다.\n"
   ]
  },
  {
   "cell_type": "markdown",
   "metadata": {},
   "source": [
    "# 퍼널 시각화"
   ]
  },
  {
   "cell_type": "code",
   "execution_count": 16,
   "metadata": {},
   "outputs": [
    {
     "data": {
      "text/html": [
       "<div>\n",
       "<style scoped>\n",
       "    .dataframe tbody tr th:only-of-type {\n",
       "        vertical-align: middle;\n",
       "    }\n",
       "\n",
       "    .dataframe tbody tr th {\n",
       "        vertical-align: top;\n",
       "    }\n",
       "\n",
       "    .dataframe thead th {\n",
       "        text-align: right;\n",
       "    }\n",
       "</style>\n",
       "<table border=\"1\" class=\"dataframe\">\n",
       "  <thead>\n",
       "    <tr style=\"text-align: right;\">\n",
       "      <th></th>\n",
       "      <th>Clicks</th>\n",
       "      <th>Join</th>\n",
       "      <th>Conversion</th>\n",
       "    </tr>\n",
       "  </thead>\n",
       "  <tbody>\n",
       "    <tr>\n",
       "      <th>0</th>\n",
       "      <td>38038</td>\n",
       "      <td>2985</td>\n",
       "      <td>981</td>\n",
       "    </tr>\n",
       "  </tbody>\n",
       "</table>\n",
       "</div>"
      ],
      "text/plain": [
       "   Clicks  Join  Conversion\n",
       "0   38038  2985         981"
      ]
     },
     "execution_count": 16,
     "metadata": {},
     "output_type": "execute_result"
    }
   ],
   "source": [
    "total_sum = ad_campaign[['Clicks', 'Join', 'Conversion']].sum()\n",
    "total_df = pd.DataFrame(total_sum).T\n",
    "total_df"
   ]
  },
  {
   "cell_type": "code",
   "execution_count": 28,
   "metadata": {},
   "outputs": [
    {
     "data": {
      "application/vnd.plotly.v1+json": {
       "config": {
        "plotlyServerURL": "https://plot.ly"
       },
       "data": [
        {
         "marker": {
          "color": [
           "deepskyblue",
           "lightsalmon",
           "tan",
           "teal"
          ]
         },
         "textinfo": "value+percent initial",
         "type": "funnel",
         "x": [
          38038,
          2985,
          981
         ],
         "y": [
          "Clicks",
          "Join",
          "Conversion"
         ]
        }
       ],
       "layout": {
        "template": {
         "data": {
          "bar": [
           {
            "error_x": {
             "color": "#2a3f5f"
            },
            "error_y": {
             "color": "#2a3f5f"
            },
            "marker": {
             "line": {
              "color": "#E5ECF6",
              "width": 0.5
             },
             "pattern": {
              "fillmode": "overlay",
              "size": 10,
              "solidity": 0.2
             }
            },
            "type": "bar"
           }
          ],
          "barpolar": [
           {
            "marker": {
             "line": {
              "color": "#E5ECF6",
              "width": 0.5
             },
             "pattern": {
              "fillmode": "overlay",
              "size": 10,
              "solidity": 0.2
             }
            },
            "type": "barpolar"
           }
          ],
          "carpet": [
           {
            "aaxis": {
             "endlinecolor": "#2a3f5f",
             "gridcolor": "white",
             "linecolor": "white",
             "minorgridcolor": "white",
             "startlinecolor": "#2a3f5f"
            },
            "baxis": {
             "endlinecolor": "#2a3f5f",
             "gridcolor": "white",
             "linecolor": "white",
             "minorgridcolor": "white",
             "startlinecolor": "#2a3f5f"
            },
            "type": "carpet"
           }
          ],
          "choropleth": [
           {
            "colorbar": {
             "outlinewidth": 0,
             "ticks": ""
            },
            "type": "choropleth"
           }
          ],
          "contour": [
           {
            "colorbar": {
             "outlinewidth": 0,
             "ticks": ""
            },
            "colorscale": [
             [
              0,
              "#0d0887"
             ],
             [
              0.1111111111111111,
              "#46039f"
             ],
             [
              0.2222222222222222,
              "#7201a8"
             ],
             [
              0.3333333333333333,
              "#9c179e"
             ],
             [
              0.4444444444444444,
              "#bd3786"
             ],
             [
              0.5555555555555556,
              "#d8576b"
             ],
             [
              0.6666666666666666,
              "#ed7953"
             ],
             [
              0.7777777777777778,
              "#fb9f3a"
             ],
             [
              0.8888888888888888,
              "#fdca26"
             ],
             [
              1,
              "#f0f921"
             ]
            ],
            "type": "contour"
           }
          ],
          "contourcarpet": [
           {
            "colorbar": {
             "outlinewidth": 0,
             "ticks": ""
            },
            "type": "contourcarpet"
           }
          ],
          "heatmap": [
           {
            "colorbar": {
             "outlinewidth": 0,
             "ticks": ""
            },
            "colorscale": [
             [
              0,
              "#0d0887"
             ],
             [
              0.1111111111111111,
              "#46039f"
             ],
             [
              0.2222222222222222,
              "#7201a8"
             ],
             [
              0.3333333333333333,
              "#9c179e"
             ],
             [
              0.4444444444444444,
              "#bd3786"
             ],
             [
              0.5555555555555556,
              "#d8576b"
             ],
             [
              0.6666666666666666,
              "#ed7953"
             ],
             [
              0.7777777777777778,
              "#fb9f3a"
             ],
             [
              0.8888888888888888,
              "#fdca26"
             ],
             [
              1,
              "#f0f921"
             ]
            ],
            "type": "heatmap"
           }
          ],
          "heatmapgl": [
           {
            "colorbar": {
             "outlinewidth": 0,
             "ticks": ""
            },
            "colorscale": [
             [
              0,
              "#0d0887"
             ],
             [
              0.1111111111111111,
              "#46039f"
             ],
             [
              0.2222222222222222,
              "#7201a8"
             ],
             [
              0.3333333333333333,
              "#9c179e"
             ],
             [
              0.4444444444444444,
              "#bd3786"
             ],
             [
              0.5555555555555556,
              "#d8576b"
             ],
             [
              0.6666666666666666,
              "#ed7953"
             ],
             [
              0.7777777777777778,
              "#fb9f3a"
             ],
             [
              0.8888888888888888,
              "#fdca26"
             ],
             [
              1,
              "#f0f921"
             ]
            ],
            "type": "heatmapgl"
           }
          ],
          "histogram": [
           {
            "marker": {
             "pattern": {
              "fillmode": "overlay",
              "size": 10,
              "solidity": 0.2
             }
            },
            "type": "histogram"
           }
          ],
          "histogram2d": [
           {
            "colorbar": {
             "outlinewidth": 0,
             "ticks": ""
            },
            "colorscale": [
             [
              0,
              "#0d0887"
             ],
             [
              0.1111111111111111,
              "#46039f"
             ],
             [
              0.2222222222222222,
              "#7201a8"
             ],
             [
              0.3333333333333333,
              "#9c179e"
             ],
             [
              0.4444444444444444,
              "#bd3786"
             ],
             [
              0.5555555555555556,
              "#d8576b"
             ],
             [
              0.6666666666666666,
              "#ed7953"
             ],
             [
              0.7777777777777778,
              "#fb9f3a"
             ],
             [
              0.8888888888888888,
              "#fdca26"
             ],
             [
              1,
              "#f0f921"
             ]
            ],
            "type": "histogram2d"
           }
          ],
          "histogram2dcontour": [
           {
            "colorbar": {
             "outlinewidth": 0,
             "ticks": ""
            },
            "colorscale": [
             [
              0,
              "#0d0887"
             ],
             [
              0.1111111111111111,
              "#46039f"
             ],
             [
              0.2222222222222222,
              "#7201a8"
             ],
             [
              0.3333333333333333,
              "#9c179e"
             ],
             [
              0.4444444444444444,
              "#bd3786"
             ],
             [
              0.5555555555555556,
              "#d8576b"
             ],
             [
              0.6666666666666666,
              "#ed7953"
             ],
             [
              0.7777777777777778,
              "#fb9f3a"
             ],
             [
              0.8888888888888888,
              "#fdca26"
             ],
             [
              1,
              "#f0f921"
             ]
            ],
            "type": "histogram2dcontour"
           }
          ],
          "mesh3d": [
           {
            "colorbar": {
             "outlinewidth": 0,
             "ticks": ""
            },
            "type": "mesh3d"
           }
          ],
          "parcoords": [
           {
            "line": {
             "colorbar": {
              "outlinewidth": 0,
              "ticks": ""
             }
            },
            "type": "parcoords"
           }
          ],
          "pie": [
           {
            "automargin": true,
            "type": "pie"
           }
          ],
          "scatter": [
           {
            "fillpattern": {
             "fillmode": "overlay",
             "size": 10,
             "solidity": 0.2
            },
            "type": "scatter"
           }
          ],
          "scatter3d": [
           {
            "line": {
             "colorbar": {
              "outlinewidth": 0,
              "ticks": ""
             }
            },
            "marker": {
             "colorbar": {
              "outlinewidth": 0,
              "ticks": ""
             }
            },
            "type": "scatter3d"
           }
          ],
          "scattercarpet": [
           {
            "marker": {
             "colorbar": {
              "outlinewidth": 0,
              "ticks": ""
             }
            },
            "type": "scattercarpet"
           }
          ],
          "scattergeo": [
           {
            "marker": {
             "colorbar": {
              "outlinewidth": 0,
              "ticks": ""
             }
            },
            "type": "scattergeo"
           }
          ],
          "scattergl": [
           {
            "marker": {
             "colorbar": {
              "outlinewidth": 0,
              "ticks": ""
             }
            },
            "type": "scattergl"
           }
          ],
          "scattermapbox": [
           {
            "marker": {
             "colorbar": {
              "outlinewidth": 0,
              "ticks": ""
             }
            },
            "type": "scattermapbox"
           }
          ],
          "scatterpolar": [
           {
            "marker": {
             "colorbar": {
              "outlinewidth": 0,
              "ticks": ""
             }
            },
            "type": "scatterpolar"
           }
          ],
          "scatterpolargl": [
           {
            "marker": {
             "colorbar": {
              "outlinewidth": 0,
              "ticks": ""
             }
            },
            "type": "scatterpolargl"
           }
          ],
          "scatterternary": [
           {
            "marker": {
             "colorbar": {
              "outlinewidth": 0,
              "ticks": ""
             }
            },
            "type": "scatterternary"
           }
          ],
          "surface": [
           {
            "colorbar": {
             "outlinewidth": 0,
             "ticks": ""
            },
            "colorscale": [
             [
              0,
              "#0d0887"
             ],
             [
              0.1111111111111111,
              "#46039f"
             ],
             [
              0.2222222222222222,
              "#7201a8"
             ],
             [
              0.3333333333333333,
              "#9c179e"
             ],
             [
              0.4444444444444444,
              "#bd3786"
             ],
             [
              0.5555555555555556,
              "#d8576b"
             ],
             [
              0.6666666666666666,
              "#ed7953"
             ],
             [
              0.7777777777777778,
              "#fb9f3a"
             ],
             [
              0.8888888888888888,
              "#fdca26"
             ],
             [
              1,
              "#f0f921"
             ]
            ],
            "type": "surface"
           }
          ],
          "table": [
           {
            "cells": {
             "fill": {
              "color": "#EBF0F8"
             },
             "line": {
              "color": "white"
             }
            },
            "header": {
             "fill": {
              "color": "#C8D4E3"
             },
             "line": {
              "color": "white"
             }
            },
            "type": "table"
           }
          ]
         },
         "layout": {
          "annotationdefaults": {
           "arrowcolor": "#2a3f5f",
           "arrowhead": 0,
           "arrowwidth": 1
          },
          "autotypenumbers": "strict",
          "coloraxis": {
           "colorbar": {
            "outlinewidth": 0,
            "ticks": ""
           }
          },
          "colorscale": {
           "diverging": [
            [
             0,
             "#8e0152"
            ],
            [
             0.1,
             "#c51b7d"
            ],
            [
             0.2,
             "#de77ae"
            ],
            [
             0.3,
             "#f1b6da"
            ],
            [
             0.4,
             "#fde0ef"
            ],
            [
             0.5,
             "#f7f7f7"
            ],
            [
             0.6,
             "#e6f5d0"
            ],
            [
             0.7,
             "#b8e186"
            ],
            [
             0.8,
             "#7fbc41"
            ],
            [
             0.9,
             "#4d9221"
            ],
            [
             1,
             "#276419"
            ]
           ],
           "sequential": [
            [
             0,
             "#0d0887"
            ],
            [
             0.1111111111111111,
             "#46039f"
            ],
            [
             0.2222222222222222,
             "#7201a8"
            ],
            [
             0.3333333333333333,
             "#9c179e"
            ],
            [
             0.4444444444444444,
             "#bd3786"
            ],
            [
             0.5555555555555556,
             "#d8576b"
            ],
            [
             0.6666666666666666,
             "#ed7953"
            ],
            [
             0.7777777777777778,
             "#fb9f3a"
            ],
            [
             0.8888888888888888,
             "#fdca26"
            ],
            [
             1,
             "#f0f921"
            ]
           ],
           "sequentialminus": [
            [
             0,
             "#0d0887"
            ],
            [
             0.1111111111111111,
             "#46039f"
            ],
            [
             0.2222222222222222,
             "#7201a8"
            ],
            [
             0.3333333333333333,
             "#9c179e"
            ],
            [
             0.4444444444444444,
             "#bd3786"
            ],
            [
             0.5555555555555556,
             "#d8576b"
            ],
            [
             0.6666666666666666,
             "#ed7953"
            ],
            [
             0.7777777777777778,
             "#fb9f3a"
            ],
            [
             0.8888888888888888,
             "#fdca26"
            ],
            [
             1,
             "#f0f921"
            ]
           ]
          },
          "colorway": [
           "#636efa",
           "#EF553B",
           "#00cc96",
           "#ab63fa",
           "#FFA15A",
           "#19d3f3",
           "#FF6692",
           "#B6E880",
           "#FF97FF",
           "#FECB52"
          ],
          "font": {
           "color": "#2a3f5f"
          },
          "geo": {
           "bgcolor": "white",
           "lakecolor": "white",
           "landcolor": "#E5ECF6",
           "showlakes": true,
           "showland": true,
           "subunitcolor": "white"
          },
          "hoverlabel": {
           "align": "left"
          },
          "hovermode": "closest",
          "mapbox": {
           "style": "light"
          },
          "paper_bgcolor": "white",
          "plot_bgcolor": "#E5ECF6",
          "polar": {
           "angularaxis": {
            "gridcolor": "white",
            "linecolor": "white",
            "ticks": ""
           },
           "bgcolor": "#E5ECF6",
           "radialaxis": {
            "gridcolor": "white",
            "linecolor": "white",
            "ticks": ""
           }
          },
          "scene": {
           "xaxis": {
            "backgroundcolor": "#E5ECF6",
            "gridcolor": "white",
            "gridwidth": 2,
            "linecolor": "white",
            "showbackground": true,
            "ticks": "",
            "zerolinecolor": "white"
           },
           "yaxis": {
            "backgroundcolor": "#E5ECF6",
            "gridcolor": "white",
            "gridwidth": 2,
            "linecolor": "white",
            "showbackground": true,
            "ticks": "",
            "zerolinecolor": "white"
           },
           "zaxis": {
            "backgroundcolor": "#E5ECF6",
            "gridcolor": "white",
            "gridwidth": 2,
            "linecolor": "white",
            "showbackground": true,
            "ticks": "",
            "zerolinecolor": "white"
           }
          },
          "shapedefaults": {
           "line": {
            "color": "#2a3f5f"
           }
          },
          "ternary": {
           "aaxis": {
            "gridcolor": "white",
            "linecolor": "white",
            "ticks": ""
           },
           "baxis": {
            "gridcolor": "white",
            "linecolor": "white",
            "ticks": ""
           },
           "bgcolor": "#E5ECF6",
           "caxis": {
            "gridcolor": "white",
            "linecolor": "white",
            "ticks": ""
           }
          },
          "title": {
           "x": 0.05
          },
          "xaxis": {
           "automargin": true,
           "gridcolor": "white",
           "linecolor": "white",
           "ticks": "",
           "title": {
            "standoff": 15
           },
           "zerolinecolor": "white",
           "zerolinewidth": 2
          },
          "yaxis": {
           "automargin": true,
           "gridcolor": "white",
           "linecolor": "white",
           "ticks": "",
           "title": {
            "standoff": 15
           },
           "zerolinecolor": "white",
           "zerolinewidth": 2
          }
         }
        },
        "title": {
         "text": "Marketing Funnel Visualization"
        },
        "xaxis": {
         "title": {
          "text": "Count"
         }
        },
        "yaxis": {
         "title": {
          "text": "Stage"
         }
        }
       }
      }
     },
     "metadata": {},
     "output_type": "display_data"
    }
   ],
   "source": [
    "# plotly를 사용하여 퍼널 차트 시각화\n",
    "import plotly.graph_objects as go\n",
    "\n",
    "fig = go.Figure(data=[go.Funnel(\n",
    "    y=labels,\n",
    "    x=values,\n",
    "    textinfo=\"value+percent initial\",\n",
    "    marker=dict(color=[\"deepskyblue\", \"lightsalmon\", \"tan\", \"teal\"],)\n",
    ")])\n",
    "\n",
    "fig.update_layout(\n",
    "    title='Marketing Funnel Visualization',\n",
    "    xaxis_title='Count',\n",
    "    yaxis_title='Stage'\n",
    ")\n",
    "\n",
    "fig.show()"
   ]
  }
 ],
 "metadata": {
  "kernelspec": {
   "display_name": "base",
   "language": "python",
   "name": "python3"
  },
  "language_info": {
   "codemirror_mode": {
    "name": "ipython",
    "version": 3
   },
   "file_extension": ".py",
   "mimetype": "text/x-python",
   "name": "python",
   "nbconvert_exporter": "python",
   "pygments_lexer": "ipython3",
   "version": "3.9.18"
  }
 },
 "nbformat": 4,
 "nbformat_minor": 2
}
